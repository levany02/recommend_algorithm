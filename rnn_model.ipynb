{
 "cells": [
  {
   "cell_type": "code",
   "execution_count": 1,
   "id": "rubber-hormone",
   "metadata": {},
   "outputs": [],
   "source": [
    "import tensorflow as tf\n",
    "from tensorflow import keras\n",
    "from tensorflow.keras import layers\n",
    "import pandas as pd\n",
    "import numpy as np\n",
    "from tensorflow.keras.layers.experimental import preprocessing\n",
    "from tensorflow import feature_column\n",
    "import os"
   ]
  },
  {
   "cell_type": "code",
   "execution_count": 2,
   "id": "established-settlement",
   "metadata": {},
   "outputs": [],
   "source": [
    "users_cols = ['user_id', 'age', 'sex', 'occupation', 'zip_code']\n",
    "users = pd.read_csv(\n",
    "    '../data/ml-100k/ml-100k/u.user', sep='|', names=users_cols, encoding='latin-1')\n",
    "\n",
    "ratings_cols = ['user_id', 'movie_id', 'rating', 'unix_timestamp']\n",
    "ratings = pd.read_csv(\n",
    "    '../data/ml-100k/ml-100k/u.data', sep='\\t', names=ratings_cols, encoding='latin-1')\n",
    "\n",
    "# The movies file contains a binary feature for each genre.\n",
    "genre_cols = [\n",
    "    \"genre_unknown\", \"Action\", \"Adventure\", \"Animation\", \"Children\", \"Comedy\",\n",
    "    \"Crime\", \"Documentary\", \"Drama\", \"Fantasy\", \"Film-Noir\", \"Horror\",\n",
    "    \"Musical\", \"Mystery\", \"Romance\", \"SciFi\", \"Thriller\", \"War\", \"Western\"\n",
    "]\n",
    "movies_cols = [\n",
    "    'movie_id', 'title', 'release_date', \"video_release_date\", \"imdb_url\"\n",
    "] + genre_cols\n",
    "movies = pd.read_csv(\n",
    "    '../data/ml-100k/ml-100k/u.item', sep='|', names=movies_cols, encoding='latin-1')\n",
    "\n",
    "# Since the ids start at 1, we shift them to start at 0.\n",
    "users[\"user_id\"] = users[\"user_id\"].apply(lambda x: str(x-1))\n",
    "movies[\"movie_id\"] = movies[\"movie_id\"].apply(lambda x: str(x-1))\n",
    "movies[\"year\"] = movies['release_date'].apply(lambda x: str(x).split('-')[-1])\n",
    "ratings[\"movie_id\"] = ratings[\"movie_id\"].apply(lambda x: str(x-1))\n",
    "ratings[\"user_id\"] = ratings[\"user_id\"].apply(lambda x: str(x-1))\n",
    "ratings[\"rating\"] = ratings[\"rating\"].apply(lambda x: float(x))\n",
    "\n",
    "# Since some movies can belong to more than one genre, we create different\n",
    "# 'genre' columns as follows:\n",
    "# - all_genres: all the active genres of the movie.\n",
    "# - genre: randomly sampled from the active genres.\n",
    "def mark_genres(movies, genres):\n",
    "    def get_random_genre(gs):\n",
    "        active = [genre for genre, g in zip(genres, gs) if g==1]\n",
    "        if len(active) == 0:\n",
    "            return 'Other'\n",
    "        return np.random.choice(active)\n",
    "    def get_all_genres(gs):\n",
    "        active = [genre for genre, g in zip(genres, gs) if g==1]\n",
    "        if len(active) == 0:\n",
    "            return 'Other'\n",
    "        return '-'.join(active)\n",
    "    movies['genre'] = [\n",
    "          get_random_genre(gs) for gs in zip(*[movies[genre] for genre in genres])]\n",
    "    movies['all_genres'] = [\n",
    "          get_all_genres(gs) for gs in zip(*[movies[genre] for genre in genres])]\n",
    "\n",
    "mark_genres(movies, genre_cols)\n",
    "\n",
    "# Create one merged DataFrame containing all the movielens data.\n",
    "movielens = ratings.merge(movies, on='movie_id').merge(users, on='user_id')"
   ]
  },
  {
   "cell_type": "code",
   "execution_count": 3,
   "id": "passive-square",
   "metadata": {},
   "outputs": [
    {
     "data": {
      "text/html": [
       "<div>\n",
       "<style scoped>\n",
       "    .dataframe tbody tr th:only-of-type {\n",
       "        vertical-align: middle;\n",
       "    }\n",
       "\n",
       "    .dataframe tbody tr th {\n",
       "        vertical-align: top;\n",
       "    }\n",
       "\n",
       "    .dataframe thead th {\n",
       "        text-align: right;\n",
       "    }\n",
       "</style>\n",
       "<table border=\"1\" class=\"dataframe\">\n",
       "  <thead>\n",
       "    <tr style=\"text-align: right;\">\n",
       "      <th></th>\n",
       "      <th>movie_id</th>\n",
       "      <th>title</th>\n",
       "      <th>release_date</th>\n",
       "      <th>video_release_date</th>\n",
       "      <th>imdb_url</th>\n",
       "      <th>year</th>\n",
       "      <th>genre</th>\n",
       "      <th>all_genres</th>\n",
       "    </tr>\n",
       "  </thead>\n",
       "  <tbody>\n",
       "    <tr>\n",
       "      <th>0</th>\n",
       "      <td>0</td>\n",
       "      <td>Toy Story (1995)</td>\n",
       "      <td>01-Jan-1995</td>\n",
       "      <td>NaN</td>\n",
       "      <td>http://us.imdb.com/M/title-exact?Toy%20Story%2...</td>\n",
       "      <td>1995</td>\n",
       "      <td>Children</td>\n",
       "      <td>Animation-Children-Comedy</td>\n",
       "    </tr>\n",
       "    <tr>\n",
       "      <th>1</th>\n",
       "      <td>1</td>\n",
       "      <td>GoldenEye (1995)</td>\n",
       "      <td>01-Jan-1995</td>\n",
       "      <td>NaN</td>\n",
       "      <td>http://us.imdb.com/M/title-exact?GoldenEye%20(...</td>\n",
       "      <td>1995</td>\n",
       "      <td>Adventure</td>\n",
       "      <td>Action-Adventure-Thriller</td>\n",
       "    </tr>\n",
       "    <tr>\n",
       "      <th>2</th>\n",
       "      <td>2</td>\n",
       "      <td>Four Rooms (1995)</td>\n",
       "      <td>01-Jan-1995</td>\n",
       "      <td>NaN</td>\n",
       "      <td>http://us.imdb.com/M/title-exact?Four%20Rooms%...</td>\n",
       "      <td>1995</td>\n",
       "      <td>Thriller</td>\n",
       "      <td>Thriller</td>\n",
       "    </tr>\n",
       "  </tbody>\n",
       "</table>\n",
       "</div>"
      ],
      "text/plain": [
       "  movie_id              title release_date  video_release_date  \\\n",
       "0        0   Toy Story (1995)  01-Jan-1995                 NaN   \n",
       "1        1   GoldenEye (1995)  01-Jan-1995                 NaN   \n",
       "2        2  Four Rooms (1995)  01-Jan-1995                 NaN   \n",
       "\n",
       "                                            imdb_url  year      genre  \\\n",
       "0  http://us.imdb.com/M/title-exact?Toy%20Story%2...  1995   Children   \n",
       "1  http://us.imdb.com/M/title-exact?GoldenEye%20(...  1995  Adventure   \n",
       "2  http://us.imdb.com/M/title-exact?Four%20Rooms%...  1995   Thriller   \n",
       "\n",
       "                  all_genres  \n",
       "0  Animation-Children-Comedy  \n",
       "1  Action-Adventure-Thriller  \n",
       "2                   Thriller  "
      ]
     },
     "execution_count": 3,
     "metadata": {},
     "output_type": "execute_result"
    }
   ],
   "source": [
    "movies[[\"movie_id\", \"title\", \"release_date\", \"video_release_date\", \"imdb_url\", \"year\", \"genre\", \"all_genres\"]].head(3)"
   ]
  },
  {
   "cell_type": "code",
   "execution_count": 4,
   "id": "sunrise-franklin",
   "metadata": {},
   "outputs": [
    {
     "data": {
      "text/html": [
       "<div>\n",
       "<style scoped>\n",
       "    .dataframe tbody tr th:only-of-type {\n",
       "        vertical-align: middle;\n",
       "    }\n",
       "\n",
       "    .dataframe tbody tr th {\n",
       "        vertical-align: top;\n",
       "    }\n",
       "\n",
       "    .dataframe thead th {\n",
       "        text-align: right;\n",
       "    }\n",
       "</style>\n",
       "<table border=\"1\" class=\"dataframe\">\n",
       "  <thead>\n",
       "    <tr style=\"text-align: right;\">\n",
       "      <th></th>\n",
       "      <th>user_id</th>\n",
       "      <th>movie_id</th>\n",
       "      <th>rating</th>\n",
       "      <th>unix_timestamp</th>\n",
       "      <th>title</th>\n",
       "      <th>release_date</th>\n",
       "      <th>video_release_date</th>\n",
       "      <th>imdb_url</th>\n",
       "      <th>year</th>\n",
       "      <th>genre</th>\n",
       "      <th>all_genres</th>\n",
       "    </tr>\n",
       "  </thead>\n",
       "  <tbody>\n",
       "    <tr>\n",
       "      <th>0</th>\n",
       "      <td>307</td>\n",
       "      <td>0</td>\n",
       "      <td>4.0</td>\n",
       "      <td>887736532</td>\n",
       "      <td>Toy Story (1995)</td>\n",
       "      <td>01-Jan-1995</td>\n",
       "      <td>NaN</td>\n",
       "      <td>http://us.imdb.com/M/title-exact?Toy%20Story%2...</td>\n",
       "      <td>1995</td>\n",
       "      <td>Children</td>\n",
       "      <td>Animation-Children-Comedy</td>\n",
       "    </tr>\n",
       "    <tr>\n",
       "      <th>1</th>\n",
       "      <td>286</td>\n",
       "      <td>0</td>\n",
       "      <td>5.0</td>\n",
       "      <td>875334088</td>\n",
       "      <td>Toy Story (1995)</td>\n",
       "      <td>01-Jan-1995</td>\n",
       "      <td>NaN</td>\n",
       "      <td>http://us.imdb.com/M/title-exact?Toy%20Story%2...</td>\n",
       "      <td>1995</td>\n",
       "      <td>Children</td>\n",
       "      <td>Animation-Children-Comedy</td>\n",
       "    </tr>\n",
       "    <tr>\n",
       "      <th>2</th>\n",
       "      <td>147</td>\n",
       "      <td>0</td>\n",
       "      <td>4.0</td>\n",
       "      <td>877019411</td>\n",
       "      <td>Toy Story (1995)</td>\n",
       "      <td>01-Jan-1995</td>\n",
       "      <td>NaN</td>\n",
       "      <td>http://us.imdb.com/M/title-exact?Toy%20Story%2...</td>\n",
       "      <td>1995</td>\n",
       "      <td>Children</td>\n",
       "      <td>Animation-Children-Comedy</td>\n",
       "    </tr>\n",
       "    <tr>\n",
       "      <th>3</th>\n",
       "      <td>279</td>\n",
       "      <td>0</td>\n",
       "      <td>4.0</td>\n",
       "      <td>891700426</td>\n",
       "      <td>Toy Story (1995)</td>\n",
       "      <td>01-Jan-1995</td>\n",
       "      <td>NaN</td>\n",
       "      <td>http://us.imdb.com/M/title-exact?Toy%20Story%2...</td>\n",
       "      <td>1995</td>\n",
       "      <td>Children</td>\n",
       "      <td>Animation-Children-Comedy</td>\n",
       "    </tr>\n",
       "    <tr>\n",
       "      <th>4</th>\n",
       "      <td>65</td>\n",
       "      <td>0</td>\n",
       "      <td>3.0</td>\n",
       "      <td>883601324</td>\n",
       "      <td>Toy Story (1995)</td>\n",
       "      <td>01-Jan-1995</td>\n",
       "      <td>NaN</td>\n",
       "      <td>http://us.imdb.com/M/title-exact?Toy%20Story%2...</td>\n",
       "      <td>1995</td>\n",
       "      <td>Children</td>\n",
       "      <td>Animation-Children-Comedy</td>\n",
       "    </tr>\n",
       "  </tbody>\n",
       "</table>\n",
       "</div>"
      ],
      "text/plain": [
       "  user_id movie_id  rating  unix_timestamp             title release_date  \\\n",
       "0     307        0     4.0       887736532  Toy Story (1995)  01-Jan-1995   \n",
       "1     286        0     5.0       875334088  Toy Story (1995)  01-Jan-1995   \n",
       "2     147        0     4.0       877019411  Toy Story (1995)  01-Jan-1995   \n",
       "3     279        0     4.0       891700426  Toy Story (1995)  01-Jan-1995   \n",
       "4      65        0     3.0       883601324  Toy Story (1995)  01-Jan-1995   \n",
       "\n",
       "   video_release_date                                           imdb_url  \\\n",
       "0                 NaN  http://us.imdb.com/M/title-exact?Toy%20Story%2...   \n",
       "1                 NaN  http://us.imdb.com/M/title-exact?Toy%20Story%2...   \n",
       "2                 NaN  http://us.imdb.com/M/title-exact?Toy%20Story%2...   \n",
       "3                 NaN  http://us.imdb.com/M/title-exact?Toy%20Story%2...   \n",
       "4                 NaN  http://us.imdb.com/M/title-exact?Toy%20Story%2...   \n",
       "\n",
       "   year     genre                 all_genres  \n",
       "0  1995  Children  Animation-Children-Comedy  \n",
       "1  1995  Children  Animation-Children-Comedy  \n",
       "2  1995  Children  Animation-Children-Comedy  \n",
       "3  1995  Children  Animation-Children-Comedy  \n",
       "4  1995  Children  Animation-Children-Comedy  "
      ]
     },
     "execution_count": 4,
     "metadata": {},
     "output_type": "execute_result"
    }
   ],
   "source": [
    "ratings = ratings.merge(movies[[\"movie_id\", \"title\", \"release_date\", \"video_release_date\", \"imdb_url\", \"year\", \"genre\", \"all_genres\"]], \n",
    "                                  how='inner',\n",
    "                                  left_on=\"movie_id\",\n",
    "                                  right_on=\"movie_id\",\n",
    "                                  sort=\"movie_id\")\n",
    "\n",
    "ratings.head(5)"
   ]
  },
  {
   "cell_type": "code",
   "execution_count": 5,
   "id": "danish-standing",
   "metadata": {},
   "outputs": [],
   "source": [
    "user_watched = ratings.groupby([\"user_id\"])[\"movie_id\"].apply(lambda x: list(x))\n",
    "user_watched = user_watched.tolist()"
   ]
  },
  {
   "cell_type": "code",
   "execution_count": 6,
   "id": "gross-ensemble",
   "metadata": {},
   "outputs": [
    {
     "data": {
      "text/html": [
       "<div>\n",
       "<style scoped>\n",
       "    .dataframe tbody tr th:only-of-type {\n",
       "        vertical-align: middle;\n",
       "    }\n",
       "\n",
       "    .dataframe tbody tr th {\n",
       "        vertical-align: top;\n",
       "    }\n",
       "\n",
       "    .dataframe thead th {\n",
       "        text-align: right;\n",
       "    }\n",
       "</style>\n",
       "<table border=\"1\" class=\"dataframe\">\n",
       "  <thead>\n",
       "    <tr style=\"text-align: right;\">\n",
       "      <th></th>\n",
       "      <th>user_id</th>\n",
       "    </tr>\n",
       "  </thead>\n",
       "  <tbody>\n",
       "    <tr>\n",
       "      <th>count</th>\n",
       "      <td>943.000000</td>\n",
       "    </tr>\n",
       "    <tr>\n",
       "      <th>mean</th>\n",
       "      <td>106.044539</td>\n",
       "    </tr>\n",
       "    <tr>\n",
       "      <th>std</th>\n",
       "      <td>100.931743</td>\n",
       "    </tr>\n",
       "    <tr>\n",
       "      <th>min</th>\n",
       "      <td>20.000000</td>\n",
       "    </tr>\n",
       "    <tr>\n",
       "      <th>25%</th>\n",
       "      <td>33.000000</td>\n",
       "    </tr>\n",
       "    <tr>\n",
       "      <th>50%</th>\n",
       "      <td>65.000000</td>\n",
       "    </tr>\n",
       "    <tr>\n",
       "      <th>75%</th>\n",
       "      <td>148.000000</td>\n",
       "    </tr>\n",
       "    <tr>\n",
       "      <th>max</th>\n",
       "      <td>737.000000</td>\n",
       "    </tr>\n",
       "  </tbody>\n",
       "</table>\n",
       "</div>"
      ],
      "text/plain": [
       "          user_id\n",
       "count  943.000000\n",
       "mean   106.044539\n",
       "std    100.931743\n",
       "min     20.000000\n",
       "25%     33.000000\n",
       "50%     65.000000\n",
       "75%    148.000000\n",
       "max    737.000000"
      ]
     },
     "execution_count": 6,
     "metadata": {},
     "output_type": "execute_result"
    }
   ],
   "source": [
    "user_watched_describe = ratings[\"user_id\"].value_counts()\n",
    "user_watched_describe.to_frame().describe()"
   ]
  },
  {
   "cell_type": "code",
   "execution_count": 7,
   "id": "worthy-greek",
   "metadata": {},
   "outputs": [
    {
     "data": {
      "text/plain": [
       "272"
      ]
     },
     "execution_count": 7,
     "metadata": {},
     "output_type": "execute_result"
    }
   ],
   "source": [
    "user_watched[0].__len__()"
   ]
  },
  {
   "cell_type": "code",
   "execution_count": 8,
   "id": "attempted-settlement",
   "metadata": {},
   "outputs": [
    {
     "data": {
      "text/plain": [
       "'0 1 10 100 101 102 103 104 105 106 107 108 109 11 110 111 112 113 114 115 116 117 118 119 12 120 121 122 123 124 125 126 127 128 129 13 130 131 132 133 134 135 136 137 138 139 14 140 141 142 143 144 145 146 147 148 149 15 150 151 152 153 154 155 156 157 158 159 16 160 161 162 163 164 165 166 167 168 169 17 170 171 172 173 174 175 176 177 178 179 18 180 181 182 183 184 185 186 187 188 189 19 190 191 192 193 194 195 196 197 198 199 2 20 200 201 202 203 204 205 206 207 208 209 21 210 211 212 213 214 215 216 217 218 219 22 220 221 222 223 224 225 226 227 228 229 23 230 231 232 233 234 235 236 237 238 239 24 240 241 242 243 244 245 246 247 248 249 25 250 251 252 253 254 255 256 257 258 259 26 260 261 262 263 264 265 266 267 268 269 27 270 271 28 29 3 30 31 32 33 34 35 36 37 38 39 4 40 41 42 43 44 45 46 47 48 49 5 50 51 52 53 54 55 56 57 58 59 6 60 61 62 63 64 65 66 67 68 69 7 70 71 72 73 74 75 76 77 78 79 8 80 81 82 83 84 85 86 87 88 89 9 90 91 92 93 94 95 96 97 98 99'"
      ]
     },
     "execution_count": 8,
     "metadata": {},
     "output_type": "execute_result"
    }
   ],
   "source": [
    "\" \".join(user_watched[0])"
   ]
  },
  {
   "cell_type": "code",
   "execution_count": 9,
   "id": "dependent-sacrifice",
   "metadata": {},
   "outputs": [],
   "source": [
    "def create_sequence(seq, maxlen=11, window=5):\n",
    "    seqs = list()\n",
    "    for i in range(0, (len(seq)//maxlen + 1)):\n",
    "        if i + 20 < len(seq):\n",
    "            seqs.append(seq[i*window: (i*window) + maxlen])\n",
    "        else:\n",
    "            seqs.append(seq[-maxlen:])\n",
    "    return seqs"
   ]
  },
  {
   "cell_type": "code",
   "execution_count": 10,
   "id": "formed-reconstruction",
   "metadata": {},
   "outputs": [],
   "source": [
    "dataset = list()\n",
    "for seq in user_watched:\n",
    "    dataset += create_sequence(seq)"
   ]
  },
  {
   "cell_type": "code",
   "execution_count": 11,
   "id": "robust-japan",
   "metadata": {},
   "outputs": [
    {
     "data": {
      "text/plain": [
       "<tf.Tensor: shape=(11,), dtype=int64, numpy=array([ 67, 232, 152, 300, 330, 591, 837, 239, 226, 297, 237], dtype=int64)>"
      ]
     },
     "execution_count": 11,
     "metadata": {},
     "output_type": "execute_result"
    }
   ],
   "source": [
    "vocabs = sorted(ratings[\"movie_id\"].unique())\n",
    "item2dix = preprocessing.StringLookup(vocabulary=vocabs)\n",
    "item2dix.adapt(dataset)\n",
    "item2idx_test = item2dix(dataset[0])\n",
    "item2idx_test"
   ]
  },
  {
   "cell_type": "code",
   "execution_count": 12,
   "id": "reliable-christmas",
   "metadata": {},
   "outputs": [
    {
     "data": {
      "text/plain": [
       "<tf.Tensor: shape=(11,), dtype=string, numpy=\n",
       "array([b'0', b'1', b'10', b'100', b'101', b'102', b'103', b'104', b'105',\n",
       "       b'106', b'107'], dtype=object)>"
      ]
     },
     "execution_count": 12,
     "metadata": {},
     "output_type": "execute_result"
    }
   ],
   "source": [
    "idx2item = preprocessing.StringLookup(vocabulary=item2dix.get_vocabulary(), invert=True)\n",
    "\n",
    "idx2item(item2idx_test)"
   ]
  },
  {
   "cell_type": "code",
   "execution_count": 13,
   "id": "peripheral-smoke",
   "metadata": {},
   "outputs": [],
   "source": [
    "dstf = item2dix(dataset)\n",
    "sequence = tf.data.Dataset.from_tensor_slices(dstf)"
   ]
  },
  {
   "cell_type": "code",
   "execution_count": 14,
   "id": "secondary-think",
   "metadata": {},
   "outputs": [],
   "source": [
    "def split_input_target(sequence):\n",
    "    input_text = sequence[:-1]\n",
    "    target_text = sequence[1:]\n",
    "    return input_text, target_text"
   ]
  },
  {
   "cell_type": "code",
   "execution_count": 15,
   "id": "sized-exposure",
   "metadata": {},
   "outputs": [],
   "source": [
    "sequence = sequence.map(split_input_target)"
   ]
  },
  {
   "cell_type": "code",
   "execution_count": 16,
   "id": "graduate-commitment",
   "metadata": {},
   "outputs": [
    {
     "name": "stdout",
     "output_type": "stream",
     "text": [
      "(<tf.Tensor: shape=(10,), dtype=int64, numpy=array([ 67, 232, 152, 300, 330, 591, 837, 239, 226, 297], dtype=int64)>, <tf.Tensor: shape=(10,), dtype=int64, numpy=array([232, 152, 300, 330, 591, 837, 239, 226, 297, 237], dtype=int64)>)\n"
     ]
    }
   ],
   "source": [
    "for seq in sequence.take(1):\n",
    "    print(seq)"
   ]
  },
  {
   "cell_type": "code",
   "execution_count": 17,
   "id": "seven-penguin",
   "metadata": {},
   "outputs": [
    {
     "data": {
      "text/plain": [
       "<PrefetchDataset shapes: ((64, 10), (64, 10)), types: (tf.int64, tf.int64)>"
      ]
     },
     "execution_count": 17,
     "metadata": {},
     "output_type": "execute_result"
    }
   ],
   "source": [
    "# Batch size\n",
    "BATCH_SIZE = 64\n",
    "\n",
    "# Buffer size to shuffle the dataset\n",
    "# (TF data is designed to work with possibly infinite sequences,\n",
    "# so it doesn't attempt to shuffle the entire sequence in memory. Instead,\n",
    "# it maintains a buffer in which it shuffles elements).\n",
    "BUFFER_SIZE = 10000\n",
    "\n",
    "sequence = (\n",
    "    sequence\n",
    "    .shuffle(BUFFER_SIZE)\n",
    "    .batch(BATCH_SIZE, drop_remainder=True)\n",
    "    .prefetch(tf.data.experimental.AUTOTUNE))\n",
    "\n",
    "sequence"
   ]
  },
  {
   "cell_type": "code",
   "execution_count": 18,
   "id": "after-participation",
   "metadata": {},
   "outputs": [],
   "source": [
    "# Length of the vocabulary in chars\n",
    "vocab_size = len(vocabs)\n",
    "\n",
    "# The embedding dimension\n",
    "embedding_dim = 256\n",
    "\n",
    "# Number of RNN units\n",
    "rnn_units = 1024\n",
    "\n",
    "class MyModel(tf.keras.Model):\n",
    "    def __init__(self, vocab_size, embedding_dim, rnn_units):\n",
    "        super().__init__(self)\n",
    "        self.embedding = tf.keras.layers.Embedding(vocab_size, embedding_dim)\n",
    "        self.gru = tf.keras.layers.GRU(rnn_units,\n",
    "                                       return_sequences=True,\n",
    "                                       return_state=True)\n",
    "        self.dense = tf.keras.layers.Dense(vocab_size)\n",
    "\n",
    "    def call(self, inputs, states=None, return_state=False, training=False):\n",
    "        x = inputs\n",
    "        x = self.embedding(x, training=training)\n",
    "        if states is None:\n",
    "            states = self.gru.get_initial_state(x)\n",
    "        x, states = self.gru(x, initial_state=states, training=training)\n",
    "        x = self.dense(x, training=training)\n",
    "\n",
    "        if return_state:\n",
    "            return x, states\n",
    "        else:\n",
    "            return x"
   ]
  },
  {
   "cell_type": "code",
   "execution_count": 19,
   "id": "checked-picking",
   "metadata": {},
   "outputs": [],
   "source": [
    "model = MyModel(\n",
    "        # Be sure the vocabulary size matches the `StringLookup` layers.\n",
    "        vocab_size=vocab_size,\n",
    "        embedding_dim=embedding_dim,\n",
    "        rnn_units=rnn_units\n",
    ")"
   ]
  },
  {
   "cell_type": "code",
   "execution_count": 20,
   "id": "qualified-hotel",
   "metadata": {},
   "outputs": [
    {
     "name": "stdout",
     "output_type": "stream",
     "text": [
      "tf.Tensor(\n",
      "[[ 574   45  762  900   80  105   16   47   86  168]\n",
      " [  10   84    9   24   71   96  127   23   63   81]\n",
      " [ 317  103  204  390  200  257  669 1180  511  349]\n",
      " [  16    9   24    7  156    5   13  110  141  106]\n",
      " [  35  150   11   98  261  224   45  229   47  168]\n",
      " [ 318  343  587   18  368   35  442  268   95    8]\n",
      " [  46  120  102  149    5  142   50  106  446  262]\n",
      " [ 138   37   66   88  203  126  207   29  147  104]\n",
      " [  65  178   28   78   14  260   15   21   62   22]\n",
      " [  12  119    2   25   46   37   88   29   44   20]\n",
      " [ 506    3   81   39   56  307   13   92  193  158]\n",
      " [  38  167  199   45   80   16  192   47   86   53]\n",
      " [ 209   72   15   21   68  121  143   62   22   89]\n",
      " [ 127   90  243   51   32   63   27  146   64    6]\n",
      " [  52   25   66  147  178   15   79   61    9  108]\n",
      " [  75   41  161  201  190  135  145  106   92  202]\n",
      " [ 277  490  379  315  400   11  129   77  236  245]\n",
      " [  54   51   32   63   81   27  222  350  186   93]\n",
      " [  88  126   29  104   44   20   36   43  133   94]\n",
      " [ 141  220   33  131  180  135  106   92  154  163]\n",
      " [ 184   14  209   74   15   21  121   62   22  137]\n",
      " [   3   34   85    7   56   13  161  220  214   33]\n",
      " [ 812  112   19   12    4   70   26  119   59   58]\n",
      " [  77   38   97   45  283   47  168  113  123  205]\n",
      " [  67  152  330  226  501  153   35  217    8  155]\n",
      " [ 853  852 1245  995 1244  994 1045 1044  893  783]\n",
      " [ 140    5  242  288  115   13   83   75   41  161]\n",
      " [  65   28   78   14   72   74   15   68  176  121]\n",
      " [  53   17   36   28   14   21   62   22   89  212]\n",
      " [  92   82  233  103  556  332  196  200  257  446]\n",
      " [ 301  181  464  314  373  216  252  188  337  298]\n",
      " [  77   38  139   12   17  124   66  147   74  149]\n",
      " [  18   35    8  322  276   11  215  129   48   55]\n",
      " [ 178  184   28  260   68  212   79  197   10  272]\n",
      " [ 569  589  414   60   57  250   18   35  217    8]\n",
      " [  47   86  168  113  783  165  814  205  174   53]\n",
      " [ 124   66  147   74  149   51    7    6    5   41]\n",
      " [   3  116  328   27    6    5  115   13   75   41]\n",
      " [  47  753   86  168  852  205  159  172  812  236]\n",
      " [ 250  323  380   18    8  459   49   11  661  175]\n",
      " [ 198    3   54   51   34  136   32   76  146    6]\n",
      " [  71   54   81   27  248  186  146   64   93   87]\n",
      " [ 272   30  169   34    7  307   75  161  135  196]\n",
      " [  37  203   29   44   20   36  178  184   28   78]\n",
      " [ 352  170  415  256  239  347  160  404  237  524]\n",
      " [  45  105   16   47   86  172   19   12   17    4]\n",
      " [  71   96  127   23  183   63   27  186  117   64]\n",
      " [ 449  160  226  327  277   18   35  217    8   49]\n",
      " [ 138   46   37  207   29  147   20   36   43   94]\n",
      " [  67  580  397  313  372  187  359  590  234  297]\n",
      " [  17    4   70   26  124   59   58    2   52   25]\n",
      " [ 114   61    9   40   24  122   73  107  235   90]\n",
      " [  96  127   23   63   81   27   64    6  140    5]\n",
      " [ 388  371  246  539   48  768   77  167  229  174]\n",
      " [ 155  100   49  400   11  435  639  175  544  392]\n",
      " [  86  168  113  123  165  205  174   53  159  172]\n",
      " [  49  339   99   48  224   31   55   16   17    4]\n",
      " [ 129  695   38   97   31  399   55   45   80  130]\n",
      " [ 103  295  259  204  258  164  279  482  338  335]\n",
      " [  25   46   37   66   44   36  133   15   21   30]\n",
      " [  10   91    9   24    3   34   39   93   87    5]\n",
      " [  91   69  132   30    9   24  122   54   32   76]\n",
      " [ 566  565   18   48   77   38   45  105  113  849]\n",
      " [  69   23  470   39    7   13  161  141  103  196]], shape=(64, 10), dtype=int64)\n",
      "(64, 10, 1682) # (batch_size, sequence_length, vocab_size)\n"
     ]
    }
   ],
   "source": [
    "for input_example_batch, target_example_batch in sequence.take(1):\n",
    "    print(input_example_batch)\n",
    "    example_batch_predictions = model(input_example_batch)\n",
    "    print(example_batch_predictions.shape, \"# (batch_size, sequence_length, vocab_size)\")"
   ]
  },
  {
   "cell_type": "code",
   "execution_count": 21,
   "id": "catholic-flavor",
   "metadata": {},
   "outputs": [
    {
     "data": {
      "text/plain": [
       "array([ 447,  387, 1156,  939, 1164, 1188,  345,  343, 1055,  451],\n",
       "      dtype=int64)"
      ]
     },
     "execution_count": 21,
     "metadata": {},
     "output_type": "execute_result"
    }
   ],
   "source": [
    "sampled_indices = tf.random.categorical(example_batch_predictions[0], num_samples=1)\n",
    "sampled_indices = tf.squeeze(sampled_indices, axis=-1).numpy()\n",
    "sampled_indices"
   ]
  },
  {
   "cell_type": "code",
   "execution_count": 22,
   "id": "angry-kidney",
   "metadata": {},
   "outputs": [
    {
     "name": "stdout",
     "output_type": "stream",
     "text": [
      "Input:\n",
      " [b'1424' b'143' b'1437' b'1442' b'146' b'149' b'150' b'152' b'153' b'154']\n",
      "\n",
      "Next Char Predictions:\n",
      " [b'1477' b'1198' b'70' b'1606' b'615' b'1672' b'1125' b'1135' b'1466'\n",
      " b'677']\n"
     ]
    }
   ],
   "source": [
    "print(\"Input:\\n\", idx2item(input_example_batch[0]).numpy())\n",
    "print()\n",
    "print(\"Next Char Predictions:\\n\", idx2item(sampled_indices).numpy())"
   ]
  },
  {
   "cell_type": "code",
   "execution_count": 23,
   "id": "heard-possibility",
   "metadata": {},
   "outputs": [
    {
     "name": "stdout",
     "output_type": "stream",
     "text": [
      "Prediction shape:  (64, 10, 1682)  # (batch_size, sequence_length, vocab_size)\n",
      "Mean loss:         7.4280367\n"
     ]
    }
   ],
   "source": [
    "loss = tf.losses.SparseCategoricalCrossentropy(from_logits=True)\n",
    "\n",
    "example_batch_loss = loss(target_example_batch, example_batch_predictions)\n",
    "mean_loss = example_batch_loss.numpy().mean()\n",
    "print(\"Prediction shape: \", example_batch_predictions.shape, \" # (batch_size, sequence_length, vocab_size)\")\n",
    "print(\"Mean loss:        \", mean_loss)"
   ]
  },
  {
   "cell_type": "code",
   "execution_count": 24,
   "id": "better-filing",
   "metadata": {},
   "outputs": [],
   "source": [
    "model.compile(optimizer='adam', loss=loss)"
   ]
  },
  {
   "cell_type": "code",
   "execution_count": 25,
   "id": "popular-prior",
   "metadata": {},
   "outputs": [],
   "source": [
    "checkpoint_dir = './training_checkpoints'\n",
    "# Name of the checkpoint files\n",
    "checkpoint_prefix = os.path.join(checkpoint_dir, \"ckpt_{epoch}\")\n",
    "\n",
    "checkpoint_callback = tf.keras.callbacks.ModelCheckpoint(\n",
    "    filepath=checkpoint_prefix,\n",
    "    save_weights_only=True)"
   ]
  },
  {
   "cell_type": "code",
   "execution_count": 26,
   "id": "finite-syndicate",
   "metadata": {},
   "outputs": [
    {
     "name": "stdout",
     "output_type": "stream",
     "text": [
      "Model: \"my_model\"\n",
      "_________________________________________________________________\n",
      "Layer (type)                 Output Shape              Param #   \n",
      "=================================================================\n",
      "embedding (Embedding)        multiple                  430592    \n",
      "_________________________________________________________________\n",
      "gru (GRU)                    multiple                  3938304   \n",
      "_________________________________________________________________\n",
      "dense (Dense)                multiple                  1724050   \n",
      "=================================================================\n",
      "Total params: 6,092,946\n",
      "Trainable params: 6,092,946\n",
      "Non-trainable params: 0\n",
      "_________________________________________________________________\n"
     ]
    }
   ],
   "source": [
    "model.summary()"
   ]
  },
  {
   "cell_type": "code",
   "execution_count": 27,
   "id": "compatible-music",
   "metadata": {},
   "outputs": [
    {
     "name": "stdout",
     "output_type": "stream",
     "text": [
      "Epoch 1/20\n",
      "149/149 [==============================] - 57s 368ms/step - loss: 6.0012\n",
      "Epoch 2/20\n",
      "149/149 [==============================] - 54s 365ms/step - loss: 2.8423\n",
      "Epoch 3/20\n",
      "149/149 [==============================] - 55s 366ms/step - loss: 2.4014\n",
      "Epoch 4/20\n",
      "149/149 [==============================] - 55s 366ms/step - loss: 2.2152\n",
      "Epoch 5/20\n",
      "149/149 [==============================] - 56s 375ms/step - loss: 2.0445\n",
      "Epoch 6/20\n",
      "149/149 [==============================] - 58s 389ms/step - loss: 1.8956\n",
      "Epoch 7/20\n",
      "149/149 [==============================] - 56s 373ms/step - loss: 1.7573\n",
      "Epoch 8/20\n",
      "149/149 [==============================] - 56s 375ms/step - loss: 1.6041\n",
      "Epoch 9/20\n",
      "149/149 [==============================] - 55s 371ms/step - loss: 1.4714\n",
      "Epoch 10/20\n",
      "149/149 [==============================] - 55s 371ms/step - loss: 1.3329\n",
      "Epoch 11/20\n",
      "149/149 [==============================] - 59s 399ms/step - loss: 1.1936\n",
      "Epoch 12/20\n",
      "149/149 [==============================] - 61s 411ms/step - loss: 1.0665\n",
      "Epoch 13/20\n",
      "149/149 [==============================] - 56s 375ms/step - loss: 0.9599\n",
      "Epoch 14/20\n",
      "149/149 [==============================] - 56s 377ms/step - loss: 0.8684\n",
      "Epoch 15/20\n",
      "149/149 [==============================] - 58s 391ms/step - loss: 0.7944\n",
      "Epoch 16/20\n",
      "149/149 [==============================] - 56s 374ms/step - loss: 0.7247\n",
      "Epoch 17/20\n",
      "149/149 [==============================] - 60s 404ms/step - loss: 0.6698\n",
      "Epoch 18/20\n",
      "149/149 [==============================] - 60s 399ms/step - loss: 0.6335\n",
      "Epoch 19/20\n",
      "149/149 [==============================] - 56s 372ms/step - loss: 0.5965\n",
      "Epoch 20/20\n",
      "149/149 [==============================] - 56s 373ms/step - loss: 0.5619\n"
     ]
    }
   ],
   "source": [
    "EPOCHS = 20\n",
    "\n",
    "history = model.fit(sequence, epochs=EPOCHS, callbacks=[checkpoint_callback])"
   ]
  },
  {
   "cell_type": "code",
   "execution_count": 33,
   "id": "stupid-diary",
   "metadata": {},
   "outputs": [
    {
     "data": {
      "image/png": "[encoded data removed]",
      "text/plain": [
       "<Figure size 432x288 with 1 Axes>"
      ]
     },
     "metadata": {
      "needs_background": "light"
     },
     "output_type": "display_data"
    }
   ],
   "source": [
    "import matplotlib.pyplot as plt\n",
    "\n",
    "plt.plot(history.history[\"loss\"])\n",
    "plt.title(\"Training loss\")\n",
    "plt.xticks([i for i in range(0, 21, 5)])\n",
    "plt.xlabel(\"epochs\")\n",
    "plt.ylabel(\"loss\")\n",
    "plt.show()"
   ]
  },
  {
   "cell_type": "code",
   "execution_count": 34,
   "id": "mounted-renewal",
   "metadata": {},
   "outputs": [
    {
     "name": "stdout",
     "output_type": "stream",
     "text": [
      "tf.Tensor(\n",
      "[[ 138   66   88  126   20   15   21  101  102   42]\n",
      " [  97  105   16    2   96  127   27   87    7    6]\n",
      " [  10   91    9   24    3   34   39   93   87    5]\n",
      " [ 486  661   99  175   77   38  167  690  192   86]\n",
      " [ 111  307  103  191  354  219  164  482  293  188]\n",
      " [ 114   30   40   54   32   85    5   50  103  295]\n",
      " [  39   93    7   56    5   13   41  161  190  135]\n",
      " [ 490  162   18   95    8  100  173   11  129   99]\n",
      " [  95 1063  740  638  816  891  134   51   39   27]\n",
      " [   4   26  119  124   59   58    2   52   25  138]\n",
      " [ 584   99   48  472   98   77  791   38   97  261]\n",
      " [ 110   92   82  128  465  607 1311  398  666 1010]\n",
      " [ 155  129   99   31   16    2   10  108   24  263]\n",
      " [  72   15   22  166    9   40  109   24  198   23]\n",
      " [ 149   71    3   54   32   27  186  146   64    7]\n",
      " [  71    3  116    6  171    5  221   13  142  106]\n",
      " [  97   55   45   47  159  112   19   12   17    4]\n",
      " [  74   15   21   68  143   22   10  151  101  102]\n",
      " [ 108   24   96   73  267   23    3   51   34   85]\n",
      " [ 186  117   64   87    7   13   75  145  406  554]\n",
      " [  16  536   47  123  165  159  112  211   12    4]\n",
      " [  13   75   41  161  214  180  106  154  163  253]\n",
      " [ 178   28   14  260   15   21   62   22   89   10]\n",
      " [  69  114  166  132   30   61   40  109   24  149]\n",
      " [ 152  397  251  231  250  277  490  379  315  400]\n",
      " [  46   37   66   88   29   44   20   65  178  184]\n",
      " [   3  116   54   51   34   32   85   81   39   93]\n",
      " [ 331  574   45  229  625   16  192   47   86  113]\n",
      " [ 168  113  228  165  174  112   19   12   17    4]\n",
      " [   5  221   13   75   41  161  142  201  190  110]\n",
      " [  43  184   28   14   15   62   22  197    9   40]\n",
      " [ 120  260  209   72   74   15   21   68  137  157]\n",
      " [ 285  258  223  164  279  482  465  373  216  252]\n",
      " [ 241  255  635  341  477  194  103  366  294  295]\n",
      " [  12   70   52  147   43   65   78   22   79  118]\n",
      " [ 138   46   20   36   65  177   74  137   89  157]\n",
      " [  89  157   79  118  101   42   91   84  114  132]\n",
      " [ 336  567   60   57  250  565   18   35  642  325]\n",
      " [  36  133   65  178  177   28   78  260  209   72]\n",
      " [ 305  463  608  983  555  511  728  516  668  845]\n",
      " [  65   28   14  120   72   15   21   68  121  143]\n",
      " [  45   80  192  144    4  124   59   58    2   52]\n",
      " [ 281  298  713  419  391  275  247  418  390  196]\n",
      " [  77   38   55   45   80   16  192   47   86  123]\n",
      " [  84   73  107  235   23   39   64  156  115   92]\n",
      " [  69  114  166   30    9   40   24  122    3  116]\n",
      " [  12   17    4    2   25   46  147   44   20   65]\n",
      " [  39  248   64   87    6   13   75  141   33  131]\n",
      " [ 756  536 1050  654  754  753  653  815  854  558]\n",
      " [ 138   37   88   20   78   14   74   15   21  137]\n",
      " [ 176  121  143   62   22  137   89  157   79  101]\n",
      " [  27  222   93    7    6  288   83   41  161  190]\n",
      " [ 340  358  162  379   18  351   35  521  564  387]\n",
      " [ 395  170  504  348  450  432  227  264  312  160]\n",
      " [  27  117   64   87    7    5  220  182   50  128]\n",
      " [ 121   10  272   69   30    9   40   24  198    3]\n",
      " [  11  311  215   77   38  167  224  199   55   45]\n",
      " [ 116   85    7    6    5   13  142  110  141   33]\n",
      " [  80  130   53  849   19   12   17    4   70   26]\n",
      " [ 187  405  160  226  237  534   60   57   18   35]\n",
      " [  95    8  641  155  315  100   49   11  770  129]\n",
      " [  99   77   38  167   97  512  822  658   45  105]\n",
      " [  40  109   24    3   54   32  186  146  117    5]\n",
      " [ 336  523   57  323  343  302   18   35  441  268]], shape=(64, 10), dtype=int64)\n",
      "(64, 10, 1682) # (batch_size, sequence_length, vocab_size)\n"
     ]
    }
   ],
   "source": [
    "for input_example_batch, target_example_batch in sequence.take(1):\n",
    "    print(input_example_batch)\n",
    "    example_batch_predictions = model(input_example_batch)\n",
    "    print(example_batch_predictions.shape, \"# (batch_size, sequence_length, vocab_size)\")"
   ]
  },
  {
   "cell_type": "code",
   "execution_count": 35,
   "id": "industrial-ivory",
   "metadata": {},
   "outputs": [
    {
     "data": {
      "text/plain": [
       "array([ 37,  29, 126,  29,  15,  21, 101, 102,  42,  91], dtype=int64)"
      ]
     },
     "execution_count": 35,
     "metadata": {},
     "output_type": "execute_result"
    }
   ],
   "source": [
    "sampled_indices = tf.random.categorical(example_batch_predictions[0], num_samples=1)\n",
    "sampled_indices = tf.squeeze(sampled_indices, axis=-1).numpy()\n",
    "sampled_indices"
   ]
  },
  {
   "cell_type": "code",
   "execution_count": 36,
   "id": "respective-death",
   "metadata": {},
   "outputs": [
    {
     "name": "stdout",
     "output_type": "stream",
     "text": [
      "Input:\n",
      " [b'183' b'186' b'187' b'189' b'194' b'209' b'21' b'225' b'226' b'227']\n",
      "\n",
      "Next Char Predictions:\n",
      " [b'185' b'190' b'189' b'190' b'209' b'21' b'225' b'226' b'227' b'228']\n"
     ]
    }
   ],
   "source": [
    "print(\"Input:\\n\", idx2item(input_example_batch[0]).numpy())\n",
    "print()\n",
    "print(\"Next Char Predictions:\\n\", idx2item(sampled_indices).numpy())"
   ]
  },
  {
   "cell_type": "code",
   "execution_count": 39,
   "id": "color-farming",
   "metadata": {},
   "outputs": [
    {
     "data": {
      "text/plain": [
       "array([b'186', b'187', b'189', b'194', b'209', b'21', b'225', b'226',\n",
       "       b'227', b'228'], dtype=object)"
      ]
     },
     "execution_count": 39,
     "metadata": {},
     "output_type": "execute_result"
    }
   ],
   "source": [
    "idx2item(target_example_batch[0]).numpy()"
   ]
  }
 ],
 "metadata": {
  "kernelspec": {
   "display_name": "Python 3",
   "language": "python",
   "name": "python3"
  },
  "language_info": {
   "codemirror_mode": {
    "name": "ipython",
    "version": 3
   },
   "file_extension": ".py",
   "mimetype": "text/x-python",
   "name": "python",
   "nbconvert_exporter": "python",
   "pygments_lexer": "ipython3",
   "version": "3.8.5"
  }
 },
 "nbformat": 4,
 "nbformat_minor": 5
}

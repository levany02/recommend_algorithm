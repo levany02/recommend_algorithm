{
 "cells": [
  {
   "cell_type": "code",
   "execution_count": 18,
   "id": "frequent-socket",
   "metadata": {},
   "outputs": [],
   "source": [
    "import tensorflow as tf\n",
    "from tensorflow import keras\n",
    "from tensorflow.keras import layers\n",
    "import pandas as pd\n",
    "import numpy as np"
   ]
  },
  {
   "cell_type": "code",
   "execution_count": 3,
   "id": "informal-crystal",
   "metadata": {},
   "outputs": [],
   "source": [
    "class Matrix_Factorization(tf.keras.Model):\n",
    "    pass\n"
   ]
  },
  {
   "cell_type": "code",
   "execution_count": 19,
   "id": "processed-invention",
   "metadata": {},
   "outputs": [],
   "source": [
    "users_cols = ['user_id', 'age', 'sex', 'occupation', 'zip_code']\n",
    "users = pd.read_csv(\n",
    "    '../data/ml-100k/ml-100k/u.user', sep='|', names=users_cols, encoding='latin-1')\n",
    "\n",
    "ratings_cols = ['user_id', 'movie_id', 'rating', 'unix_timestamp']\n",
    "ratings = pd.read_csv(\n",
    "    '../data/ml-100k/ml-100k/u.data', sep='\\t', names=ratings_cols, encoding='latin-1')\n",
    "\n",
    "# The movies file contains a binary feature for each genre.\n",
    "genre_cols = [\n",
    "    \"genre_unknown\", \"Action\", \"Adventure\", \"Animation\", \"Children\", \"Comedy\",\n",
    "    \"Crime\", \"Documentary\", \"Drama\", \"Fantasy\", \"Film-Noir\", \"Horror\",\n",
    "    \"Musical\", \"Mystery\", \"Romance\", \"Sci-Fi\", \"Thriller\", \"War\", \"Western\"\n",
    "]\n",
    "movies_cols = [\n",
    "    'movie_id', 'title', 'release_date', \"video_release_date\", \"imdb_url\"\n",
    "] + genre_cols\n",
    "movies = pd.read_csv(\n",
    "    '../data/ml-100k/ml-100k/u.item', sep='|', names=movies_cols, encoding='latin-1')\n",
    "\n",
    "# Since the ids start at 1, we shift them to start at 0.\n",
    "users[\"user_id\"] = users[\"user_id\"].apply(lambda x: str(x-1))\n",
    "movies[\"movie_id\"] = movies[\"movie_id\"].apply(lambda x: str(x-1))\n",
    "movies[\"year\"] = movies['release_date'].apply(lambda x: str(x).split('-')[-1])\n",
    "ratings[\"movie_id\"] = ratings[\"movie_id\"].apply(lambda x: str(x-1))\n",
    "ratings[\"user_id\"] = ratings[\"user_id\"].apply(lambda x: str(x-1))\n",
    "ratings[\"rating\"] = ratings[\"rating\"].apply(lambda x: float(x))\n",
    "\n",
    "# Since some movies can belong to more than one genre, we create different\n",
    "# 'genre' columns as follows:\n",
    "# - all_genres: all the active genres of the movie.\n",
    "# - genre: randomly sampled from the active genres.\n",
    "def mark_genres(movies, genres):\n",
    "    def get_random_genre(gs):\n",
    "        active = [genre for genre, g in zip(genres, gs) if g==1]\n",
    "        if len(active) == 0:\n",
    "            return 'Other'\n",
    "        return np.random.choice(active)\n",
    "    def get_all_genres(gs):\n",
    "        active = [genre for genre, g in zip(genres, gs) if g==1]\n",
    "        if len(active) == 0:\n",
    "            return 'Other'\n",
    "        return '-'.join(active)\n",
    "    movies['genre'] = [\n",
    "          get_random_genre(gs) for gs in zip(*[movies[genre] for genre in genres])]\n",
    "    movies['all_genres'] = [\n",
    "          get_all_genres(gs) for gs in zip(*[movies[genre] for genre in genres])]\n",
    "\n",
    "mark_genres(movies, genre_cols)\n",
    "\n",
    "# Create one merged DataFrame containing all the movielens data.\n",
    "movielens = ratings.merge(movies, on='movie_id').merge(users, on='user_id')"
   ]
  },
  {
   "cell_type": "code",
   "execution_count": 24,
   "id": "cosmetic-baker",
   "metadata": {},
   "outputs": [
    {
     "data": {
      "text/html": [
       "<div>\n",
       "<style scoped>\n",
       "    .dataframe tbody tr th:only-of-type {\n",
       "        vertical-align: middle;\n",
       "    }\n",
       "\n",
       "    .dataframe tbody tr th {\n",
       "        vertical-align: top;\n",
       "    }\n",
       "\n",
       "    .dataframe thead th {\n",
       "        text-align: right;\n",
       "    }\n",
       "</style>\n",
       "<table border=\"1\" class=\"dataframe\">\n",
       "  <thead>\n",
       "    <tr style=\"text-align: right;\">\n",
       "      <th></th>\n",
       "      <th>user_id</th>\n",
       "      <th>movie_id</th>\n",
       "      <th>rating</th>\n",
       "      <th>unix_timestamp</th>\n",
       "    </tr>\n",
       "  </thead>\n",
       "  <tbody>\n",
       "    <tr>\n",
       "      <th>0</th>\n",
       "      <td>195</td>\n",
       "      <td>241</td>\n",
       "      <td>3.0</td>\n",
       "      <td>881250949</td>\n",
       "    </tr>\n",
       "    <tr>\n",
       "      <th>1</th>\n",
       "      <td>185</td>\n",
       "      <td>301</td>\n",
       "      <td>3.0</td>\n",
       "      <td>891717742</td>\n",
       "    </tr>\n",
       "    <tr>\n",
       "      <th>2</th>\n",
       "      <td>21</td>\n",
       "      <td>376</td>\n",
       "      <td>1.0</td>\n",
       "      <td>878887116</td>\n",
       "    </tr>\n",
       "  </tbody>\n",
       "</table>\n",
       "</div>"
      ],
      "text/plain": [
       "  user_id movie_id  rating  unix_timestamp\n",
       "0     195      241     3.0       881250949\n",
       "1     185      301     3.0       891717742\n",
       "2      21      376     1.0       878887116"
      ]
     },
     "execution_count": 24,
     "metadata": {},
     "output_type": "execute_result"
    }
   ],
   "source": [
    "ratings.head(3)"
   ]
  },
  {
   "cell_type": "code",
   "execution_count": 22,
   "id": "republican-pharmacology",
   "metadata": {},
   "outputs": [],
   "source": [
    "def build_rating_sparse_tensor(ratings_df):\n",
    "    \"\"\"\n",
    "    Args:\n",
    "        ratings_df: a pd.DataFrame with `user_id`, `movie_id` and `rating` columns.\n",
    "      Returns:\n",
    "        a tf.SparseTensor representing the ratings matrix.\n",
    "    \"\"\"\n",
    "    indices = ratings_df[['user_id', 'movie_id']].values\n",
    "    values = ratings_df['rating'].values\n",
    "    return tf.SparseTensor(\n",
    "          indices=indices,\n",
    "          values=values,\n",
    "          dense_shape=[users.shape[0], movies.shape[0]])"
   ]
  },
  {
   "cell_type": "code",
   "execution_count": 30,
   "id": "composite-application",
   "metadata": {},
   "outputs": [
    {
     "data": {
      "text/plain": [
       "(<tf.Tensor: shape=(3,), dtype=float64, numpy=array([3., 3., 1.])>,\n",
       " <tf.Tensor: shape=(3, 2), dtype=int64, numpy=\n",
       " array([[195, 241],\n",
       "        [185, 301],\n",
       "        [ 21, 376]], dtype=int64)>)"
      ]
     },
     "execution_count": 30,
     "metadata": {},
     "output_type": "execute_result"
    }
   ],
   "source": [
    "sparse_rating = build_rating_sparse_tensor(ratings)\n",
    "sparse_rating.values[:3], sparse_rating.indices[:3]"
   ]
  },
  {
   "cell_type": "code",
   "execution_count": 34,
   "id": "rough-sudan",
   "metadata": {},
   "outputs": [
    {
     "data": {
      "text/plain": [
       "(943, 1682)"
      ]
     },
     "execution_count": 34,
     "metadata": {},
     "output_type": "execute_result"
    }
   ],
   "source": [
    "ratings[\"user_id\"].unique().__len__(), ratings[\"movie_id\"].unique().__len__()"
   ]
  },
  {
   "cell_type": "code",
   "execution_count": 38,
   "id": "residential-skating",
   "metadata": {},
   "outputs": [],
   "source": [
    "user_embedding = tf.Variable(tf.random.normal(shape=[sparse_rating.dense_shape[0], 5], stddev=1.0))\n",
    "item_embedding = tf.Variable(tf.random.normal(shape=[sparse_rating.dense_shape[1], 5], stddev=1.0))"
   ]
  },
  {
   "cell_type": "code",
   "execution_count": 42,
   "id": "weighted-stable",
   "metadata": {},
   "outputs": [
    {
     "data": {
      "text/plain": [
       "<tf.Tensor: shape=(100000,), dtype=float32, numpy=\n",
       "array([-3.3062525 , -3.5642443 ,  4.115395  , ...,  0.17213285,\n",
       "       -6.2068768 , -0.7492338 ], dtype=float32)>"
      ]
     },
     "execution_count": 42,
     "metadata": {},
     "output_type": "execute_result"
    }
   ],
   "source": [
    "tf.reduce_sum(tf.gather(user_embedding, sparse_rating.indices[:, 0])*tf.gather(item_embedding, sparse_rating.indices[:, 1]), axis=1)"
   ]
  },
  {
   "cell_type": "code",
   "execution_count": 44,
   "id": "violent-medium",
   "metadata": {},
   "outputs": [
    {
     "data": {
      "text/plain": [
       "<tf.Tensor: shape=(100000,), dtype=float64, numpy=array([3., 3., 1., ..., 1., 2., 3.])>"
      ]
     },
     "execution_count": 44,
     "metadata": {},
     "output_type": "execute_result"
    }
   ],
   "source": [
    "sparse_rating.values"
   ]
  },
  {
   "cell_type": "code",
   "execution_count": 45,
   "id": "proper-denial",
   "metadata": {},
   "outputs": [],
   "source": [
    "def sparse_mean_square_error(sparse_ratings, user_embeddings, movie_embeddings):\n",
    "    \"\"\"\n",
    "    Args:\n",
    "    sparse_ratings: A SparseTensor rating matrix, of dense_shape [N, M]\n",
    "    user_embeddings: A dense Tensor U of shape [N, k] where k is the embedding\n",
    "      dimension, such that U_i is the embedding of user i.\n",
    "    movie_embeddings: A dense Tensor V of shape [M, k] where k is the embedding\n",
    "      dimension, such that V_j is the embedding of movie j.\n",
    "    Returns:\n",
    "    A scalar Tensor representing the MSE between the true ratings and the\n",
    "      model's predictions.\n",
    "    \"\"\"\n",
    "    predictions = tf.reduce_sum(\n",
    "        tf.gather(user_embeddings, sparse_ratings.indices[:, 0]) *\n",
    "        tf.gather(movie_embeddings, sparse_ratings.indices[:, 1]),\n",
    "        axis=1)\n",
    "    loss = tf.losses.mean_squared_error(sparse_ratings.values, predictions)\n",
    "    return loss"
   ]
  },
  {
   "cell_type": "code",
   "execution_count": 55,
   "id": "compact-edward",
   "metadata": {},
   "outputs": [],
   "source": [
    "trainable_weights = [user_embedding, item_embedding]\n",
    "optimizer = tf.optimizers.Adam()\n",
    "for i in range(1000):\n",
    "    with tf.GradientTape() as tape:\n",
    "        loss = sparse_mean_square_error(sparse_rating, user_embedding, item_embedding)\n",
    "    grads = tape.gradient(loss, trainable_weights)\n",
    "    optimizer.apply_gradients(zip(grads, trainable_weights))"
   ]
  },
  {
   "cell_type": "code",
   "execution_count": 57,
   "id": "editorial-shipping",
   "metadata": {},
   "outputs": [
    {
     "data": {
      "text/plain": [
       "<tf.Tensor: shape=(), dtype=float32, numpy=1.3984052>"
      ]
     },
     "execution_count": 57,
     "metadata": {},
     "output_type": "execute_result"
    }
   ],
   "source": [
    "loss"
   ]
  },
  {
   "cell_type": "code",
   "execution_count": 59,
   "id": "musical-agent",
   "metadata": {},
   "outputs": [
    {
     "data": {
      "text/plain": [
       "TensorShape([943, 1682])"
      ]
     },
     "execution_count": 59,
     "metadata": {},
     "output_type": "execute_result"
    }
   ],
   "source": [
    "predict_ratings = tf.matmul(user_embedding, item_embedding, transpose_b=True)\n",
    "predict_ratings.shape"
   ]
  },
  {
   "cell_type": "code",
   "execution_count": 61,
   "id": "heard-applicant",
   "metadata": {},
   "outputs": [
    {
     "data": {
      "text/plain": [
       "<tf.Tensor: shape=(1682,), dtype=int32, numpy=array([1572, 1485, 1574, ...,  167, 1456, 1397])>"
      ]
     },
     "execution_count": 61,
     "metadata": {},
     "output_type": "execute_result"
    }
   ],
   "source": [
    "tf.argsort(predict_ratings[1, :].numpy())"
   ]
  }
 ],
 "metadata": {
  "kernelspec": {
   "display_name": "Python 3",
   "language": "python",
   "name": "python3"
  },
  "language_info": {
   "codemirror_mode": {
    "name": "ipython",
    "version": 3
   },
   "file_extension": ".py",
   "mimetype": "text/x-python",
   "name": "python",
   "nbconvert_exporter": "python",
   "pygments_lexer": "ipython3",
   "version": "3.8.5"
  }
 },
 "nbformat": 4,
 "nbformat_minor": 5
}
